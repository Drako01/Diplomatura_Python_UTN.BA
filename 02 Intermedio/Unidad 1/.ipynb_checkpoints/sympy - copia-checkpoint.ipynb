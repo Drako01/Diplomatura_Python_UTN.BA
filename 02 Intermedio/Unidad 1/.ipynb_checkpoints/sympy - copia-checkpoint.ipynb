{
 "cells": [
  {
   "cell_type": "markdown",
   "metadata": {},
   "source": [
    "<h1> Sympy</h1>\n",
    "\n",
    "Para ver un ejemplo de cómo implementarla, supongamos que queremos calcular la raíz de 8, esto lo podríamos realizar sin Sympy utilizando la librería de python math de la siguiente forma:"
   ]
  },
  {
   "cell_type": "code",
   "execution_count": 1,
   "metadata": {},
   "outputs": [
    {
     "name": "stdout",
     "output_type": "stream",
     "text": [
      "2.8284271247461903\n"
     ]
    }
   ],
   "source": [
    "import math\n",
    "print(math.sqrt(8))\n"
   ]
  },
  {
   "cell_type": "markdown",
   "metadata": {},
   "source": [
    "Si ahora probamos con Sympy:"
   ]
  },
  {
   "cell_type": "code",
   "execution_count": 5,
   "metadata": {},
   "outputs": [
    {
     "name": "stdout",
     "output_type": "stream",
     "text": [
      "2*sqrt(2)\n"
     ]
    }
   ],
   "source": [
    "import sympy\n",
    "print(sympy.sqrt(8))\n"
   ]
  },
  {
   "cell_type": "markdown",
   "metadata": {},
   "source": [
    "De hecho podemos intentar multiplicar el valor anterior por 3:"
   ]
  },
  {
   "cell_type": "code",
   "execution_count": 6,
   "metadata": {},
   "outputs": [
    {
     "name": "stdout",
     "output_type": "stream",
     "text": [
      "6*sqrt(2)\n"
     ]
    }
   ],
   "source": [
    "a = sympy.sqrt(8)\n",
    "print(a * 3)\n"
   ]
  },
  {
   "cell_type": "markdown",
   "metadata": {},
   "source": [
    "<h1>Definición de variables</h1>\n",
    "Dado que en Python una variable no tiene sentido hasta que la definimos, y que Sympy es una librería de Python que no adiciona nada al lenguaje en sí, para trabajar con una variable debemos primero definirla utilizando la palabra “symbols” de la siguiente forma:\n"
   ]
  },
  {
   "cell_type": "code",
   "execution_count": 9,
   "metadata": {},
   "outputs": [
    {
     "name": "stdout",
     "output_type": "stream",
     "text": [
      "x + 1\n"
     ]
    }
   ],
   "source": [
    "from sympy import *\n",
    "x = symbols('x')\n",
    "print(x+1)\n"
   ]
  },
  {
   "cell_type": "markdown",
   "metadata": {},
   "source": [
    "Si queremos declarar más de una variable a la vez podemos hacerlo así:"
   ]
  },
  {
   "cell_type": "code",
   "execution_count": 10,
   "metadata": {},
   "outputs": [],
   "source": [
    "x, y, z = symbols('x y z')"
   ]
  },
  {
   "cell_type": "markdown",
   "metadata": {},
   "source": [
    "<h1>Evaluación de una expresión - subs()</h1>\n",
    "Algo muy importante a tener en cuenta, es como evaluar una expresión en sympy, supongamos que tenemos una expresión, y la queremos evaluar, en este caso no podemos simplemente declarar la variable con un valor, sino que debemos utilizar la rutina subs() pasándole los valores en donde vamos a evaluar la expresión mediante un diccionario de la siguiente manera:"
   ]
  },
  {
   "cell_type": "code",
   "execution_count": 13,
   "metadata": {},
   "outputs": [
    {
     "name": "stdout",
     "output_type": "stream",
     "text": [
      "x + 2*y\n",
      "6\n"
     ]
    }
   ],
   "source": [
    "from sympy import symbols\n",
    "x, y = symbols('x y')\n",
    "expresión = x + 2 * y\n",
    "print(expresión)\n",
    "print(expresión.subs({x:2, y:2}))\n"
   ]
  },
  {
   "cell_type": "markdown",
   "metadata": {},
   "source": [
    "<h1>Igualdad – Eq()</h1>\n",
    "En python un signo de igual lo utilizamos para asignar un valor y un doble signo de igual para comparar, esto podría llevar a pensar que podríamos realizar la siguiente igualdad:\n"
   ]
  },
  {
   "cell_type": "code",
   "execution_count": 14,
   "metadata": {},
   "outputs": [
    {
     "data": {
      "text/latex": [
       "$\\displaystyle x + 1 = 4$"
      ],
      "text/plain": [
       "Eq(x + 1, 4)"
      ]
     },
     "execution_count": 14,
     "metadata": {},
     "output_type": "execute_result"
    }
   ],
   "source": [
    "Eq(x + 1,  4)"
   ]
  },
  {
   "cell_type": "markdown",
   "metadata": {},
   "source": [
    "<h1>Testear una igualdad</h1>\n",
    "En el caso de querer testear una igualdad también podemos contar con un par de rutinas:\n",
    "\n",
    "<h2>PRIMERO</h2>\n",
    "\n",
    "Podemos utilizar symplify() para evaluar si la resta de ambas ecuaciones da cero de la siguiente forma:\n"
   ]
  },
  {
   "cell_type": "code",
   "execution_count": 15,
   "metadata": {},
   "outputs": [
    {
     "name": "stdout",
     "output_type": "stream",
     "text": [
      "0\n"
     ]
    }
   ],
   "source": [
    "from sympy import symbols\n",
    "a = (x+1)**2\n",
    "b = x**2 + 2*x +1\n",
    "print(simplify(a-b))\n"
   ]
  },
  {
   "cell_type": "markdown",
   "metadata": {},
   "source": [
    "Simplify nos permite también simplificar la ecuación, por ejemplo si tenemos"
   ]
  },
  {
   "cell_type": "code",
   "execution_count": 16,
   "metadata": {},
   "outputs": [
    {
     "data": {
      "text/latex": [
       "$\\displaystyle 4 x$"
      ],
      "text/plain": [
       "4*x"
      ]
     },
     "execution_count": 16,
     "metadata": {},
     "output_type": "execute_result"
    }
   ],
   "source": [
    "a = (x + 1)**2\n",
    "c = x**2 - 2*x + 1\n",
    "simplify(a - c)\n"
   ]
  },
  {
   "cell_type": "markdown",
   "metadata": {},
   "source": [
    "Nota: Recordar que para elevar un número a una potencia, se utilizan dos signos de “*”, por lo que x**2 es la representación de x^2\n",
    "\n",
    "<h2>SEGUNDO</h2>\n",
    "\n",
    "O podemos utilizar el método equals, el cual evalúa la igualdad de forma numérica utilizando para ello valores aleatorios y retorna “True” o “False” de la siguiente forma:\n"
   ]
  },
  {
   "cell_type": "code",
   "execution_count": 17,
   "metadata": {},
   "outputs": [
    {
     "name": "stdout",
     "output_type": "stream",
     "text": [
      "True\n"
     ]
    }
   ],
   "source": [
    "from sympy import symbols\n",
    "a = (x+1)**2\n",
    "b = x**2 + 2*x +1\n",
    "print(a.equals(b))\n"
   ]
  },
  {
   "cell_type": "markdown",
   "metadata": {},
   "source": [
    "<h1>Uso de derivadas (OPCIONAL)</h1>\n",
    "Para trabajar con derivadas utilizamos diff() así:\n"
   ]
  },
  {
   "cell_type": "code",
   "execution_count": 18,
   "metadata": {},
   "outputs": [
    {
     "data": {
      "text/latex": [
       "$\\displaystyle - \\sin{\\left(x \\right)}$"
      ],
      "text/plain": [
       "-sin(x)"
      ]
     },
     "execution_count": 18,
     "metadata": {},
     "output_type": "execute_result"
    }
   ],
   "source": [
    "diff(cos(x), x)"
   ]
  },
  {
   "cell_type": "markdown",
   "metadata": {},
   "source": [
    "Esto nos retorna como es de esperar –sin(x). El método diff() puede considerar derivadas múltiples, para ello es necesario pasar la variable tantas veces como se desee derivar. Por ejemplo si queremos derivar dos veces con respecto a x la expresión anterior lo haríamos así:"
   ]
  },
  {
   "cell_type": "code",
   "execution_count": 19,
   "metadata": {},
   "outputs": [
    {
     "data": {
      "text/latex": [
       "$\\displaystyle - \\cos{\\left(x \\right)}$"
      ],
      "text/plain": [
       "-cos(x)"
      ]
     },
     "execution_count": 19,
     "metadata": {},
     "output_type": "execute_result"
    }
   ],
   "source": [
    "diff(cos(x), x, x)"
   ]
  },
  {
   "cell_type": "markdown",
   "metadata": {},
   "source": [
    " \n",
    "\n",
    "O análogamente indicar la variable y a continuación la cantidad de veces que queremos derivar con relación a esa variable, así:\n"
   ]
  },
  {
   "cell_type": "code",
   "execution_count": 20,
   "metadata": {},
   "outputs": [
    {
     "data": {
      "text/latex": [
       "$\\displaystyle - \\cos{\\left(x \\right)}$"
      ],
      "text/plain": [
       "-cos(x)"
      ]
     },
     "execution_count": 20,
     "metadata": {},
     "output_type": "execute_result"
    }
   ],
   "source": [
    "diff(cos(x), x, 2)"
   ]
  },
  {
   "cell_type": "markdown",
   "metadata": {},
   "source": [
    "Una forma alternativa de llamar al método diff() si tenemos guardada la expresión en un objeto, sería así: "
   ]
  },
  {
   "cell_type": "code",
   "execution_count": 21,
   "metadata": {},
   "outputs": [
    {
     "data": {
      "text/latex": [
       "$\\displaystyle - \\cos{\\left(x \\right)}$"
      ],
      "text/plain": [
       "-cos(x)"
      ]
     },
     "execution_count": 21,
     "metadata": {},
     "output_type": "execute_result"
    }
   ],
   "source": [
    "a= cos(x)\n",
    "a.diff(x, 2)\n"
   ]
  },
  {
   "cell_type": "markdown",
   "metadata": {},
   "source": [
    "Si queremos derivar con relación a varias variable, debemos de expresar el orden de derivación:\n",
    "\n"
   ]
  },
  {
   "cell_type": "code",
   "execution_count": 22,
   "metadata": {},
   "outputs": [
    {
     "data": {
      "text/latex": [
       "$\\displaystyle 4 \\left(4 x^{2} y^{2} + 2 x^{2} + 2 y^{2} + 1\\right) e^{x^{2} + y^{2} + 7}$"
      ],
      "text/plain": [
       "4*(4*x**2*y**2 + 2*x**2 + 2*y**2 + 1)*exp(x**2 + y**2 + 7)"
      ]
     },
     "execution_count": 22,
     "metadata": {},
     "output_type": "execute_result"
    }
   ],
   "source": [
    "a = exp(x**2 + y**2 + 7)\n",
    "a.diff(x,2,y,y)\n"
   ]
  },
  {
   "cell_type": "markdown",
   "metadata": {},
   "source": [
    "<h1>Uso de Integrales - (OPCIONAL)</h1>\n",
    "\n",
    "Para integrar en lugar de derivar utilizamos integrate() en lugar de diff()\n",
    "\n"
   ]
  },
  {
   "cell_type": "code",
   "execution_count": 23,
   "metadata": {},
   "outputs": [
    {
     "data": {
      "text/latex": [
       "$\\displaystyle \\sin{\\left(x \\right)}$"
      ],
      "text/plain": [
       "sin(x)"
      ]
     },
     "execution_count": 23,
     "metadata": {},
     "output_type": "execute_result"
    }
   ],
   "source": [
    "a= cos(x)\n",
    "a.integrate(x)\n"
   ]
  },
  {
   "cell_type": "markdown",
   "metadata": {},
   "source": [
    "Y para evaluar en los límites de integración le pasamos los argumentos:"
   ]
  },
  {
   "cell_type": "code",
   "execution_count": 24,
   "metadata": {},
   "outputs": [
    {
     "data": {
      "text/latex": [
       "$\\displaystyle - \\sin{\\left(90 \\right)}$"
      ],
      "text/plain": [
       "-sin(90)"
      ]
     },
     "execution_count": 24,
     "metadata": {},
     "output_type": "execute_result"
    }
   ],
   "source": [
    "a= cos(x)\n",
    "a.integrate((x,90,0))\n"
   ]
  },
  {
   "cell_type": "markdown",
   "metadata": {},
   "source": [
    "Lo cual nos retorna –sin(90)\n",
    "Si queremos representar un signo de infinito, debemos utilizar dos letras “o” minúsculas así: \n"
   ]
  },
  {
   "cell_type": "code",
   "execution_count": 25,
   "metadata": {},
   "outputs": [
    {
     "data": {
      "text/latex": [
       "$\\displaystyle 1$"
      ],
      "text/plain": [
       "1"
      ]
     },
     "execution_count": 25,
     "metadata": {},
     "output_type": "execute_result"
    }
   ],
   "source": [
    "a= exp(-x)\n",
    "a.integrate((x,0,oo))\n"
   ]
  }
 ],
 "metadata": {
  "kernelspec": {
   "display_name": "Python 3",
   "language": "python",
   "name": "python3"
  },
  "language_info": {
   "codemirror_mode": {
    "name": "ipython",
    "version": 3
   },
   "file_extension": ".py",
   "mimetype": "text/x-python",
   "name": "python",
   "nbconvert_exporter": "python",
   "pygments_lexer": "ipython3",
   "version": "3.7.9"
  }
 },
 "nbformat": 4,
 "nbformat_minor": 4
}
