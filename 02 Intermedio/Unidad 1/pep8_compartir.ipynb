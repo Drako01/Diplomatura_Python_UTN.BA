{
 "cells": [
  {
   "cell_type": "markdown",
   "metadata": {},
   "source": [
    "<h1>PEP8 PYTHON</H1>"
   ]
  },
  {
   "cell_type": "markdown",
   "metadata": {},
   "source": [
    "<h2>Declaraciones y llamada a función</h2>\n",
    "\n",
    ">Agregamos una indentación extra de cuatro espacios para distingur entre los argumentos y el contenido de la función."
   ]
  },
  {
   "cell_type": "code",
   "execution_count": 1,
   "metadata": {},
   "outputs": [],
   "source": [
    "def funcion_de_nombre_largo(\n",
    "        parametro1,\n",
    "        parametro2,\n",
    "        parametro3,\n",
    "        parametro4):\n",
    "    print(parametro1)"
   ]
  },
  {
   "cell_type": "markdown",
   "metadata": {},
   "source": [
    "> Alineamos con la apertura del delimitador en este caso con el paréntesis."
   ]
  },
  {
   "cell_type": "code",
   "execution_count": 2,
   "metadata": {},
   "outputs": [
    {
     "name": "stdout",
     "output_type": "stream",
     "text": [
      "Manzana\n"
     ]
    }
   ],
   "source": [
    "variable = funcion_de_nombre_largo(\"Manzana\",\n",
    "                                   \"Pera\",\n",
    "                                   \"Limón\",\n",
    "                                   \"Naranja\"\n",
    "                                   )"
   ]
  },
  {
   "cell_type": "markdown",
   "metadata": {},
   "source": [
    "> Se permite también"
   ]
  },
  {
   "cell_type": "code",
   "execution_count": 3,
   "metadata": {},
   "outputs": [
    {
     "name": "stdout",
     "output_type": "stream",
     "text": [
      "Manzana\n"
     ]
    }
   ],
   "source": [
    "variable2 = funcion_de_nombre_largo(\n",
    "    \"Manzana\",\n",
    "    \"Pera\",\n",
    "    \"Limón\",\n",
    "    \"Naranja\"\n",
    ")"
   ]
  },
  {
   "cell_type": "markdown",
   "metadata": {},
   "source": [
    "<h2>Cierre de una asignación </h2>\n",
    "> El paréntesis / corchete / llave que cierre una asignación debe estar alineado con el primer carácter que  no sea un espacio en blanco:"
   ]
  },
  {
   "cell_type": "code",
   "execution_count": 4,
   "metadata": {},
   "outputs": [
    {
     "name": "stdout",
     "output_type": "stream",
     "text": [
      "Manzana\n"
     ]
    }
   ],
   "source": [
    "lista_1 = [\n",
    "    1, 2, 3,\n",
    "    4, 5, 6,\n",
    "    ]\n",
    "\n",
    "variable = funcion_de_nombre_largo(\"Manzana\",\n",
    "                                   \"Pera\",\n",
    "                                   \"Limón\",\n",
    "                                   \"Naranja\"\n",
    "                                   )"
   ]
  },
  {
   "cell_type": "markdown",
   "metadata": {},
   "source": [
    "> O puede ser alineado con el caracter inicial de la primera línea"
   ]
  },
  {
   "cell_type": "code",
   "execution_count": 5,
   "metadata": {},
   "outputs": [
    {
     "name": "stdout",
     "output_type": "stream",
     "text": [
      "Manzana\n"
     ]
    }
   ],
   "source": [
    "my_list = [\n",
    "    1, 2, 3,\n",
    "    4, 5, 6,\n",
    "]\n",
    "\n",
    "variable = funcion_de_nombre_largo(\n",
    "    \"Manzana\",\n",
    "    \"Pera\",\n",
    "    \"Limón\",\n",
    "    \"Naranja\"\n",
    ")\n"
   ]
  },
  {
   "cell_type": "markdown",
   "metadata": {},
   "source": [
    "<h2>¿Tabulaciones o espacios?</h2>\n",
    "\n",
    ">Nunca mezcles tabulaciones y espacios.\n",
    "El método de indentación más popular en Python es con espacios. El segundo más popular es con tabulaciones, sin mezclar unos con otros. Cualquier código indentado con una mezcla de espacios y tabulaciones debe ser convertido a espacios exclusivamente. \n",
    "\n",
    ">Para proyectos nuevos, únicamente espacios es preferible y recomendado antes que tabulaciones. La mayoría de los editores presentan características para realizar esta tarea de manera sencilla."
   ]
  },
  {
   "cell_type": "markdown",
   "metadata": {},
   "source": [
    "<h2>Máxima longitud de las líneas</h2>\n",
    "\n",
    ">Limita todas las líneas a un máximo de 79 caracteres.\n",
    "\n",
    ">En el caso de largos bloques de texto (“docstrings” o comentarios), se recomienda limitarlos a 72 caracteres es.\n",
    "\n",
    ">El método preferido para “cortar” líneas largas es utilizando la continuación implícita dentro de paréntesis, corchetes o llaves. Además, éstas pueden ser divididas en múltiples líneas envolviéndolas en paréntesis. Esto debe ser aplicado en preferencia a usar la barra\n",
    "invertida (“\\”).\n"
   ]
  },
  {
   "cell_type": "markdown",
   "metadata": {},
   "source": [
    "<h2>Uso de barra invertida (“\\”)</h2>\n",
    "\n",
    "> La barra invertida aún puede ser apropiada en diversas ocasiones. Por ejemplo, en sentencias largas ó múltiples que no pueden utilizar continuación implícita, por lo que dicho carácter es aceptable:"
   ]
  },
  {
   "cell_type": "code",
   "execution_count": 6,
   "metadata": {},
   "outputs": [
    {
     "name": "stdout",
     "output_type": "stream",
     "text": [
      "Texto en el archivo 1\n"
     ]
    }
   ],
   "source": [
    "#archivo = open('ruta1/ruta2/ruta3/ruta4/archivo1.txt', 'w')\n",
    "with open('ruta1/ruta2/ruta3/ruta4/archivo1.txt') as file_1, \\\n",
    "open('ruta1/ruta2/ruta3/ruta4/archivo2.txt', 'a') as file_2:\n",
    "    var = file_1.read()\n",
    "    print(var)\n",
    "    file_2.write('\\n' + var)"
   ]
  },
  {
   "cell_type": "markdown",
   "metadata": {},
   "source": [
    "> En el caso de usar parentesis, corchetes o llaves el uso de la barra invertida es <b style=\"color:red;>redundante</b>, como en el siguiente ejemplo:"
   ]
  },
  {
   "cell_type": "code",
   "execution_count": 7,
   "metadata": {},
   "outputs": [
    {
     "name": "stdout",
     "output_type": "stream",
     "text": [
      "[1, 2, 3, 4, 5, 6]\n"
     ]
    }
   ],
   "source": [
    "mi_lista = [\n",
    "    1, 2, 3, \\\n",
    "    4, 5, 6,\n",
    "]\n",
    "\n",
    "print(mi_lista)"
   ]
  },
  {
   "cell_type": "markdown",
   "metadata": {},
   "source": [
    "<b>NOTA:</b> Otro caso de esta índole es la sentencia assert."
   ]
  },
  {
   "cell_type": "markdown",
   "metadata": {},
   "source": [
    "<h1>OPERADORES BINARIOS</h1>\n",
    "<h3>¿Debe romperse una línea antes o después de un operador binario?</h3>\n",
    "\n",
    "> Durante décadas, el estilo recomendado fue romper con los operadores binarios. Pero esto puede dañar la legibilidad, los operadores tienden a dispersarse en diferentes columnas de la pantalla y cada operador se aleja de su operando y pasa a la línea anterior. Aquí, el ojo tiene que hacer un trabajo adicional para saber qué elementos se agregan y cuáles se restan:\n",
    "\n",
    "<h3 style=\"color:red;\">Forma errada</h3>\n",
    "<pre>\n",
    "resultado = (valor1 +\n",
    "          valor2_promedio +\n",
    "          (valor3 - desviacion) -\n",
    "          valor4 -\n",
    "          valor_de_resultado_anterior)\n",
    "</pre>\n",
    "\n",
    "> <b>La forma correcta sería:</b>"
   ]
  },
  {
   "cell_type": "code",
   "execution_count": 8,
   "metadata": {},
   "outputs": [
    {
     "name": "stdout",
     "output_type": "stream",
     "text": [
      "4\n"
     ]
    }
   ],
   "source": [
    "valor1 = 3\n",
    "valor2_promedio = 4\n",
    "valor3 = 5\n",
    "promedio_anterior = 2\n",
    "valor4 = 4\n",
    "valor_de_resultado_anterior = 2\n",
    "\n",
    "resultado = (valor1 \n",
    "             + valor2_promedio\n",
    "             + (valor3 - promedio_anterior)\n",
    "             - valor4\n",
    "             - valor_de_resultado_anterior\n",
    "            )\n",
    "\n",
    "print(resultado)"
   ]
  },
  {
   "cell_type": "markdown",
   "metadata": {},
   "source": [
    "<h1>Líneas en blanco</h1>\n",
    "\n",
    ">Separar funciones de alto nivel y definiciones de clase con dos líneas en blanco.\n",
    "\n",
    ">Las definiciones de métodos dentro de una clase son separadas por una línea en blanco.\n",
    "\n",
    ">Se pueden utilizar grupos de líneasen blanco adicionales (escasamente)\n",
    "para separar grupos de funciones relacionadas. \n",
    "\n",
    "> Se puede usar líneas en blanco en funciones, (escasamente), para indicar\n",
    "secciones lógicas."
   ]
  },
  {
   "cell_type": "markdown",
   "metadata": {},
   "source": [
    "<h1>Importaciones</h1>\n",
    "\n",
    ">Las importaciones deben estar en líneas separadas, por ejemplo:"
   ]
  },
  {
   "cell_type": "code",
   "execution_count": 9,
   "metadata": {},
   "outputs": [],
   "source": [
    "import os\n",
    "import sys"
   ]
  },
  {
   "cell_type": "markdown",
   "metadata": {},
   "source": [
    "> Sin embargo, es correcto decir:"
   ]
  },
  {
   "cell_type": "code",
   "execution_count": 10,
   "metadata": {},
   "outputs": [],
   "source": [
    "from subprocess import Popen, PIPE"
   ]
  },
  {
   "cell_type": "markdown",
   "metadata": {},
   "source": [
    "> Las importaciones deben estar agrupadas en el siguiente orden:\n",
    "\n",
    "<ol>1) importaciones de la librería estándar</ol>\n",
    "<ol>1) importaciones terceras relacionadas</ol>\n",
    "<ol>3) importaciones locales de la aplicación / librería</ol>\n",
    "\n",
    ">Se debería poner una línea en blanco entre cada grupo.\n",
    "\n",
    ">Las especificaciones __all__ van luego de las importaciones.\n",
    "\n",
    ">Las importaciones relativas (relative imports) para intra-paquete (intra-package) son altamente desalentadas (poco recomendadas) . Siempre usa la ruta absoluta del paquete para todas las importaciones. Incluso ahora que el PEP 328 está completamente implementado en Python 2.5, su estilo de\n",
    "importaciones relativas explícitas es activamente desalentado;\n",
    ">Las importaciones absolutas (absolute imports) son más portables y legibles.\n",
    "\n",
    ">Al importar una clase desde un módulo que contiene una clase, generalmente está bien realizar esto:\n",
    "\n",
    "<ol style=\"background-color:#e8e8e8;\">\n",
    "from myclass import MyClass <br/>\n",
    "from foo.bar.yourclass import YourClass  \n",
    "    \n",
    "</ol>"
   ]
  },
  {
   "cell_type": "markdown",
   "metadata": {},
   "source": [
    "Si esto causa coincidencias con nombres locales, realiza:\n",
    "\n",
    "<ol style=\"background-color:#e8e8e8;\">\n",
    "import myclass<br/>\n",
    "import foo.bar.yourclass\n",
    "    \n",
    "</ol>\n",
    "\n",
    "y usa:\n",
    "\n",
    "<ol style=\"background-color:#e8e8e8;\">\n",
    "“myclass.MyClass”<br/>\n",
    "“foo.bar.yourclass.YourClass”\n",
    "    \n",
    "</ol>\n"
   ]
  },
  {
   "cell_type": "markdown",
   "metadata": {},
   "source": [
    "<h1>Espacios en blanco en Expresiones y Sentencias</h1>\n",
    "<h3>Manías</h3>\n",
    "\n",
    "Evita usar espacios en blanco extraños en las siguientes situaciones:\n",
    "\n",
    "<li>Inmediatamente dentro de paréntesis, corchetes o llaves:</li>\n",
    "<ol style=\"background-color:#e8e8e8;\">\n",
    " \n",
    "<b>Sí:&nbsp;&nbsp;</b>  spam(ham[1], {eggs: 2})<br/>\n",
    "<b>No:</b>  spam( ham[ 1 ], { eggs: 2 } )\n",
    "    \n",
    "</ol>\n",
    "\n",
    "<li>Inmediatamente antes de una coma, un punto y coma o dos puntos:</li>\n",
    "\n",
    "<ol style=\"background-color:#e8e8e8;\">\n",
    " \n",
    "<b>Sí:&nbsp;&nbsp;</b>  if x == 4: print x, y; x, y = y, x<br/>\n",
    "<b>No:</b>  if x == 4 : print x , y ; x , y = y , x\n",
    "    \n",
    "</ol>\n",
    "\n",
    "Sí: \n",
    "No: \n",
    "\n",
    "<li>Inmediatamente antes del paréntesis que comienza la lista de argumentos en la llamada a una función:</li>\n",
    "\n",
    "<ol style=\"background-color:#e8e8e8;\">\n",
    " \n",
    "<b>Sí:&nbsp;&nbsp;</b>  spam(1)<br/>\n",
    "<b>No:</b>  spam (1)\n",
    "    \n",
    "</ol>\n",
    "\n",
    "<li>Inmediatamente antes de un corchete que empieza una indexación o “slicing” (término utilizado tanto en el ámbito de habla inglesa como española):</li>\n",
    "\n",
    "<ol style=\"background-color:#e8e8e8;\">\n",
    " \n",
    "<b>Sí:&nbsp;&nbsp;</b>  dict['key'] = list[index]<br/>\n",
    "<b>No:</b>  dict ['key'] = list [index]\n",
    "    \n",
    "</ol>\n",
    "\n",
    "<li>Más de un espacio alrededor de un operador de asignación (u otro) para alinearlo con otro:</li>\n",
    "\n",
    "<ol style=\"background-color:#e8e8e8;\">\n",
    " \n",
    "<b>Sí:&nbsp;&nbsp;</b><br/>\n",
    "x = 1<br/>\n",
    "y = 2<br/>    \n",
    "long_variable = 3       \n",
    "<b>No:</b> <br/>\n",
    "x &nbsp;&nbsp;&nbsp;&nbsp;&nbsp;&nbsp;&nbsp;&nbsp;&nbsp;&nbsp;&nbsp;&nbsp;&nbsp;&nbsp;&nbsp;&nbsp;&nbsp;&nbsp;&nbsp;&nbsp;= 1<br/>\n",
    "y &nbsp;&nbsp;&nbsp;&nbsp;&nbsp;&nbsp;&nbsp;&nbsp;&nbsp;&nbsp;&nbsp;&nbsp;&nbsp;&nbsp;&nbsp;&nbsp;&nbsp;&nbsp;&nbsp;&nbsp;= 2<br/>\n",
    "long_variable = 3    \n",
    "</ol>"
   ]
  },
  {
   "cell_type": "markdown",
   "metadata": {},
   "source": [
    "<h1>Otras recomendaciones</h1>\n",
    "\n",
    "> Siempre rodea estos operadores binarios con un espacio en cada lado: \n",
    "\n",
    "<li>asignación (=), </li>\n",
    "<li>asignación de aumentación (+=, -=,etc.), </li> \n",
    "<li>comparaciones (==, <, >, !=, <>, <=, >=, in, not in, is,is not), </li>\n",
    "<li>“Booleans” (and, or, not).</li>\n",
    "    \n",
    "> Si se utilizan operadores con prioridad diferente, considera agregar espacios alrededor del operador con la menor prioridad.\n",
    "Usa tu propio criterio, de todas menaras, nunca uses más de un espacio, y siempre mantén la misma cantidad en ambos lados.\n",
    "\n",
    "    \n",
    "<ol style=\"background-color:#e8e8e8;\">\n",
    " \n",
    "<b>Sí:&nbsp;&nbsp;</b><br/>\n",
    "i = i + 1<br/>\n",
    "submitted += 1<br/>\n",
    "x = x*2 - 1<br/>\n",
    "hypot2 = x*x + y*y<br/>\n",
    "c = (a+b) * (a-b) <br/>     \n",
    "<b>No:</b> <br/>\n",
    "i=i+1<br/>\n",
    "submitted +=1<br/>\n",
    "x = x * 2 - 1<br/>\n",
    "hypot2 = x * x + y * y<br/>\n",
    "c = (a + b) * (a - b)  <br/>\n",
    "</ol>    \n",
    " \n",
    "> No uses espacios alrededor del = (igual) cuando es utilizado para indicar un argumento en una función (“keyword argument”) o un parámetro con un valor por defecto.\n",
    "    \n",
    "<ol style=\"background-color:#e8e8e8;\">\n",
    " \n",
    "<b>Sí:&nbsp;&nbsp;</b><br/>\n",
    "def complex(real, imag=0.0):<br/>\n",
    "&nbsp;&nbsp;&nbsp;&nbsp;return magic(r=real, i=imag)  <br/> \n",
    "<b>No:</b> <br/>\n",
    "def complex(real, imag = 0.0):<br/>\n",
    "&nbsp;&nbsp;&nbsp;&nbsp;return magic(r = real, i = imag)<br/>\n",
    "</ol>     \n",
    "    \n",
    "\n",
    "\n",
    "\n"
   ]
  },
  {
   "cell_type": "markdown",
   "metadata": {},
   "source": [
    "<h1>Comentarios</h1>\n",
    "\n",
    ">Comentarios que contradigan el código es peor que no colocar comentarios. ¡Siempre realiza una prioridad de mantener los\n",
    "comentarios al día cuando el código cambie!\n",
    "\n",
    ">Los comentarios deben ser oraciones completas. Si un comentario es una frase u oración, su primera palabra debe comenzar con\n",
    "mayúscula, a menos que sea un identificador que comienza con minúscula. ¡Nunca cambies las mayúsculas/minúsculas de los\n",
    "identificadores! (Nombres de clases, objetos, funciones, etc.).\n",
    "\n",
    ">Si un comentario es corto, el punto al final puede omitirse.Comentarios en bloque generalmente consisten en uno o más párrafos compuestos por oraciones completas, por lo que cada una de ellas debe finalizar en un punto.\n",
    "\n",
    ">Deberías usar dos espacios luego de una oración que termine con un punto.\n",
    "\n",
    "\n",
    "<h2>Comentarios en bloque</h2>\n",
    "\n",
    ">Los comentarios en bloque generalmente se aplican a algunos (o todos) códigos que los siguen, y están indentados al mismo nivel que\n",
    "ese código. Cada línea de un comentario en bloque comienza con un # (numeral) y un espacio (a menos que esté indentado dentro del\n",
    "mismo comentario).\n",
    "\n",
    "> Los párrafos dentro de un comentario en bloque están separados por una línea que contiene únicamente un # (numeral).\n",
    "\n",
    "<h2>Comentarios en línea </h2>(comentarios en la misma línea)\n",
    "\n",
    ">Usa comentarios en línea escasamente.\n",
    "\n",
    ">Un comentario en línea es aquel que se encuentra en la misma línea que una sentencia. Los comentarios en línea deberían estar separados por al menos dos espacios de la sentencia. Deberían empezar con un # (numeral) seguido de un espacio. Los comentarios en línea son innecesarios y de hecho molestos si su acción es obvia. No hagas esto:\n",
    "\n",
    "<ol style=\"background-color:#e8e8e8;\">\n",
    "x = x + 1 # Incrementar x\n",
    "    \n",
    "</ol>\n",
    "\n",
    "\n",
    "Pero algunas veces es útil:\n",
    "\n",
    "<ol style=\"background-color:#e8e8e8;\">\n",
    "x = x + 1 # Compensar el borde \n",
    "    \n",
    "</ol>\n"
   ]
  },
  {
   "cell_type": "markdown",
   "metadata": {},
   "source": [
    "<h1>Convenciones de nombramiento</h1>\n",
    "\n",
    "Las convenciones de nombramiento (o nomenclatura) de la libreríaPython son un poco desastrosas, por lo que nunca vamos a obtener\n",
    "esto completamente consistente – sin embargo, aquí hay algunos de\n",
    "los actualmente recomendados estándares de nombramiento. Los\n",
    "nuevos módulos o paquetes (incluyendo frameworks de terceros)\n",
    "deberían estar escritos en base a estos estándares, pero donde una\n",
    "librería existente tenga un estilo diferente, la consistencia interna es\n",
    "preferible"
   ]
  },
  {
   "cell_type": "markdown",
   "metadata": {},
   "source": [
    "<h2>Descriptivo: Estilos de nombramiento</h2> \n",
    "\n",
    ">No hay gran cantidad de diversos estilos de nombramiento. Te ayuda a ser capaz de reconocer qué estilo de nombramiento está siendo utilizado, independientemente de para qué están usados. Las tildes no deben incluirse, tómese como una regla para mantener la traducción con la correcta ortografía. En cualquiera de los casos, no deben utilizarse caracteres con tildes para el nombramiento.\n",
    "\n",
    "> Se distinguen los siguientes estilos:\n",
    "\n",
    "<li>b (una letra en minúscula)</li>\n",
    "<li>B (una letra en mayúscula)</li>\n",
    "<li>minúscula (lowercase)</li>\n",
    "<li>minúscula_con_guiones_bajos (lower_case_with_underscores)</li>\n",
    "<li>MAYÚSCULA (UPPERCASE)</li>\n",
    "<li>MAYÚSCULA_CON_GUIONES_BAJOS (UPPER_CASE_WITH_UNDERSCORES)</li>\n",
    "<li>PalabrasConMayúscula (CapitalizedWords) (“CapWords” o “CamelCase”).</li>\n",
    "\n",
    "Nota: Al momento de usar abreviaciones en “CapWords”, pon en mayúscula las letras de la abreviación. “HTTPServerError” es\n",
    "mejor que “HttpServerError”.\n",
    "    \n",
    "<li>minúsculaMayúscula (mixedCase) (difiere con “CapWords” por la primer letra en minúscula).</li>\n",
    "<li>Palabras_Con_Mayúsculas_Con_Guiones_Bajos (Capitalizad_Words_With_Underscores) (¡horrible!).</li>\n",
    "\n",
    "<li>Existe también el estilo de usar un prefijo único para identificar a un grupo de funciones relacionadas. Esto no es muy utilizado en Python,\n",
    "pero se menciona para cubrir los estilos en su totalidad. Por ejemplo, la función os.stat() retorna una tupla cuyos ítems tradicionalmente\n",
    "tienen nombres como st_mode, st_size, st_mtime y así. (Se realiza esto para enfatizar la correspondencia con los campos del “POSIX system call struct”, que ayuda a los programadores a estar familiarizados.) La libraría X11 usa un prefijo “X” para todas sus funciones públicas. En Python, este estilo es generalmente innecesario ya que tanto los métodos como los atributos están precedidos con un objeto, al igual que los nombres de las funciones lo están con el nombre de un módulo.</li>\n",
    "\n",
    "> Además, la siguiente forma precedida por un guión bajo es reconocida (esta puede ser combinada con cualquiera de las convenciones nombradas anteriormente):\n",
    "\n",
    "<li>_simple_guion_bajo_como_prefijo (_single_leading_underscore): débil indicador de “uso interno”. Por ejemplo, from M import * no importa los objetos cuyos nombres comienzan con un guión bajo.</li>\n",
    "<li>simple_guion_bajo_como_sufijo_ (single_trailing_underscore_): utilizado como convención para evitar conflictos con un nombre ya existente, ejemplo: Tkinter.Toplevel(master, class_='ClassName')</li>\n",
    "<li>__doble_guion_bajo_como_prefijo (__double_leading_underscore): al nombrar un atributo en una clase, se invoca el “name mangling” (dentro de la clase FooBar, __boo se convierte en _FooBar__boo; véase abajo).</li>\n",
    "<li>__doble_guion_bajo_como_prefijo_y_sufijo__ (__double_leading_and_trailing_underscore__): los objetos y atributos que viven en “namespaces” controlados por el usuario. Ejemplo, __init__, __import__ o __file__. Nunca inventes nombres como esos; únicamente utiliza losdocumentados.</li>\n",
    "\n",
    "<h2>Prescriptivo: Convenciones de nombramiento</h2>\n",
    "\n",
    "<h3>Nombres para evitar:</h3>\n",
    "\n",
    "<li>Nunca uses los caracteres ‘l’ (letra ele en minúscula), ‘O’ (letra o mayúscula), o ‘I’ (letra i mayúscula) como simples caracteres para\n",
    "nombres de variables.</li>\n",
    "    \n",
    "<li>En algunas fuentes, estos caracteres son indistinguibles de los números uno y cero. Cuando se quiera usar ‘l’, en lugar usa ‘L’.</li>\n",
    "\n",
    "<h3>Nombres de paquetes y módulos</h3>\n",
    "\n",
    "> Los módulos deben tener un nombre corto y en minúscula. Guiones bajos pueden utilizarse si mejora la legiblidad.\n",
    "\n",
    "> Los paquetes en Python también deberían tener un nombre corto y en minúscula, aunque el uso de guiones bajos es desalentado (poco\n",
    "recomendado).\n",
    "\n",
    ">Ya que los nombres de módulos están ligados a los de los archivos, y algunos sistemas operativos distinguen caracteres entre minúsculas y mayúsculas y truncan nombres largos, es importante que sean bastante cortos – esto no será un problema en Unix, pero podrá ser un problema cuando el código es portado a una antigua versión de Mac, Windows o DOS.\n",
    "\n",
    ">Cuando un módulo escrito en C o C++ provee una interfaz de alto nivel escrita en Python, debe llevar un guión bajo como prefijo (por\n",
    "ejemplo, _socket).\n",
    "\n",
    "<h3>Nombres de clases</h3>\n",
    "\n",
    ">Casi sin excepción, los nombres de clases deben utilizar la convención “CapWords” (palabras que comienzan con mayúsculas).\n",
    "\n",
    ">Clases para uso interno tienen un guión bajo como prefijo.\n",
    "\n",
    "<h3>Nombres de excepciones</h3>\n",
    "\n",
    "> Debido a que las excepciones deben ser clases, se aplica la convención anterior. De todas maneras, deberías usar un sufijo“Error” en los nombres de excepciones (en caso que corresponda a un error).\n",
    "\n",
    "<h3>Nombres de variables globales</h3>\n",
    "    \n",
    "> (Esperemos que esas variables sean únicamente para uso dentro del módulo). Las convenciones son las mismas que se aplican para las\n",
    "funciones. Los módulos que estén diseñados para usarse vía:\n",
    "    \n",
    "from M import * \n",
    "    \n",
    ">deben usar el mecanismo __all__ para prevenir la exportación de las variables globales, o usar la antigua convención especificando un guión bajo como prefijo (lo que tratarás de hacer es indicar esas globales como “no públicas”).\n",
    "\n",
    "<h3>Nombres de funciones</h3>\n",
    "\n",
    ">Las funciones deben ser en minúscula, con las palabras separadas por un guión bajo, aplicándose éstos tanto como sea necesario para mejorar la legibilidad. “mixedCase” (primera palabra en minúscula) es aceptado únicamente en contextos en donde éste es el estilo predominante (por ejemplo,\n",
    "threading.py) con el objetivo de mantener la compatibilidad con versiones anteriores.\n",
    "\n",
    "<h3>Argumentos de funciones y métodos</h3>\n",
    "\n",
    ">Siempre usa self para el primer argumento de los métodos de instancia.\n",
    "    \n",
    ">Siempre usa cls para el primer argumento de los métodos de clase.\n",
    "\n",
    ">Si los argumentos de una función coincide con una palabra reservada del lenguaje, generalmente es mejor agregar un guión bajo comosufijo antes de usar una abreviación u ortografía incorrecta. class_ es mejor que clss. (Tal vez es mejor evitar las coincidencias usando un sinónimo.)\n",
    "\n",
    "<h3>Nombres de métodos y variables de instancia</h3>\n",
    "    \n",
    ">Usa las mismas reglas que para el nombramiento de funciones: enminúscula con palabras separadas con guiones bajos, tantos como sea necesario para mejorar la legibilidad. Usa un solo guión bajo como prefijo para métodos no públicos y variables de instancia.\n",
    "    \n",
    "<h3>Constantes</h3>\n",
    "Las constantes son generalmente definidas a nivel módulo, escritas con todas las letras en mayúscula y con guiones bajos separando\n",
    "palabras. Por ejemplo, MAX_OVERFLOW y TOTAL.\n",
    "\n",
    " "
   ]
  },
  {
   "cell_type": "code",
   "execution_count": null,
   "metadata": {},
   "outputs": [],
   "source": []
  }
 ],
 "metadata": {
  "kernelspec": {
   "display_name": "Python 3",
   "language": "python",
   "name": "python3"
  },
  "language_info": {
   "codemirror_mode": {
    "name": "ipython",
    "version": 3
   },
   "file_extension": ".py",
   "mimetype": "text/x-python",
   "name": "python",
   "nbconvert_exporter": "python",
   "pygments_lexer": "ipython3",
   "version": "3.7.9"
  }
 },
 "nbformat": 4,
 "nbformat_minor": 4
}
